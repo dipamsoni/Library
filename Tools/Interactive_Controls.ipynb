{
 "cells": [
  {
   "cell_type": "markdown",
   "id": "d901da40",
   "metadata": {},
   "source": [
    "# Enrich Your Notebook With Interactive Controls\n",
    "\n",
    "Hello, I am **[Dipam Soni](https://flowcv.me/dipamsoni)** and here is my portfolio website where you can find more information about me.\n",
    "\n",
    "You can reach me through **[LinkedIn](https://www.linkedin.com/in/dipam-soni-276aa8207)**\n",
    "\n",
    "Post Link: **[GitHub](https://github.com/dipamsoni/Data-Science/tree/main/Tools/Interactive_Controls.ipynb)**\n",
    "\n",
    "You can read more from this : **[Documentation](https://ipywidgets.readthedocs.io/en/stable/)**\n",
    "\n",
    "Spread 💙, Be 😃, Go with the flow 🎈.\n",
    "\n",
    "Love & Regards from Dipam."
   ]
  },
  {
   "cell_type": "code",
   "execution_count": 1,
   "id": "f26074f2",
   "metadata": {},
   "outputs": [],
   "source": [
    "from ipywidgets import interact\n",
    "import pandas as pd\n",
    "\n",
    "pd.options.plotting.backend = 'plotly'"
   ]
  },
  {
   "cell_type": "code",
   "execution_count": 2,
   "id": "38ec8800",
   "metadata": {},
   "outputs": [
    {
     "data": {
      "text/html": [
       "<div>\n",
       "<style scoped>\n",
       "    .dataframe tbody tr th:only-of-type {\n",
       "        vertical-align: middle;\n",
       "    }\n",
       "\n",
       "    .dataframe tbody tr th {\n",
       "        vertical-align: top;\n",
       "    }\n",
       "\n",
       "    .dataframe thead th {\n",
       "        text-align: right;\n",
       "    }\n",
       "</style>\n",
       "<table border=\"1\" class=\"dataframe\">\n",
       "  <thead>\n",
       "    <tr style=\"text-align: right;\">\n",
       "      <th></th>\n",
       "      <th>Name</th>\n",
       "      <th>Company_Name</th>\n",
       "      <th>Employee_Job_Title</th>\n",
       "      <th>Employee_City</th>\n",
       "      <th>Employee_Country</th>\n",
       "      <th>Employee_Salary</th>\n",
       "      <th>Employment_Status</th>\n",
       "      <th>Employee_Rating</th>\n",
       "      <th>Credits</th>\n",
       "    </tr>\n",
       "  </thead>\n",
       "  <tbody>\n",
       "    <tr>\n",
       "      <th>0</th>\n",
       "      <td>Johnny Maynard</td>\n",
       "      <td>White, Mcclain and Cobb</td>\n",
       "      <td>Equities trader</td>\n",
       "      <td>New Cindychester</td>\n",
       "      <td>Mongolia</td>\n",
       "      <td>764340</td>\n",
       "      <td>Full Time</td>\n",
       "      <td>3.3</td>\n",
       "      <td>1</td>\n",
       "    </tr>\n",
       "    <tr>\n",
       "      <th>1</th>\n",
       "      <td>Michael Williams</td>\n",
       "      <td>Scott Inc</td>\n",
       "      <td>Patent examiner</td>\n",
       "      <td>Ricardomouth</td>\n",
       "      <td>Guinea-Bissau</td>\n",
       "      <td>929230</td>\n",
       "      <td>Full Time</td>\n",
       "      <td>4.6</td>\n",
       "      <td>4</td>\n",
       "    </tr>\n",
       "    <tr>\n",
       "      <th>2</th>\n",
       "      <td>Laura Flynn</td>\n",
       "      <td>Andrade LLC</td>\n",
       "      <td>Equities trader</td>\n",
       "      <td>North Melissafurt</td>\n",
       "      <td>Tonga</td>\n",
       "      <td>606900</td>\n",
       "      <td>Intern</td>\n",
       "      <td>0.3</td>\n",
       "      <td>3</td>\n",
       "    </tr>\n",
       "    <tr>\n",
       "      <th>3</th>\n",
       "      <td>Stefanie Archer</td>\n",
       "      <td>James and Sons</td>\n",
       "      <td>Retail merchandiser</td>\n",
       "      <td>Ricardomouth</td>\n",
       "      <td>San Marino</td>\n",
       "      <td>775380</td>\n",
       "      <td>Full Time</td>\n",
       "      <td>2.8</td>\n",
       "      <td>5</td>\n",
       "    </tr>\n",
       "    <tr>\n",
       "      <th>4</th>\n",
       "      <td>Sierra Garcia</td>\n",
       "      <td>Matthews Inc</td>\n",
       "      <td>Armed forces logistics/support/administrative ...</td>\n",
       "      <td>Whitakerbury</td>\n",
       "      <td>Nepal</td>\n",
       "      <td>944480</td>\n",
       "      <td>Full Time</td>\n",
       "      <td>4.5</td>\n",
       "      <td>4</td>\n",
       "    </tr>\n",
       "    <tr>\n",
       "      <th>5</th>\n",
       "      <td>Donna Miller</td>\n",
       "      <td>Andrade LLC</td>\n",
       "      <td>Garment/textile technologist</td>\n",
       "      <td>West Jamesview</td>\n",
       "      <td>Tonga</td>\n",
       "      <td>428090</td>\n",
       "      <td>Intern</td>\n",
       "      <td>1.1</td>\n",
       "      <td>4</td>\n",
       "    </tr>\n",
       "    <tr>\n",
       "      <th>6</th>\n",
       "      <td>Linda Rodriguez</td>\n",
       "      <td>Marshall-Holloway</td>\n",
       "      <td>Optometrist</td>\n",
       "      <td>Whitakerbury</td>\n",
       "      <td>Portugal</td>\n",
       "      <td>645690</td>\n",
       "      <td>Full Time</td>\n",
       "      <td>4.7</td>\n",
       "      <td>5</td>\n",
       "    </tr>\n",
       "    <tr>\n",
       "      <th>7</th>\n",
       "      <td>Jonathan Gibson</td>\n",
       "      <td>Scott Inc</td>\n",
       "      <td>Naval architect</td>\n",
       "      <td>Whiteside</td>\n",
       "      <td>Libyan Arab Jamahiriya</td>\n",
       "      <td>483210</td>\n",
       "      <td>Intern</td>\n",
       "      <td>3.4</td>\n",
       "      <td>1</td>\n",
       "    </tr>\n",
       "    <tr>\n",
       "      <th>8</th>\n",
       "      <td>Karl Henry</td>\n",
       "      <td>Campos, Reynolds and Mccormick</td>\n",
       "      <td>Radiographer, therapeutic</td>\n",
       "      <td>Whiteside</td>\n",
       "      <td>Kyrgyz Republic</td>\n",
       "      <td>586480</td>\n",
       "      <td>Full Time</td>\n",
       "      <td>3.7</td>\n",
       "      <td>2</td>\n",
       "    </tr>\n",
       "    <tr>\n",
       "      <th>9</th>\n",
       "      <td>Katherine Sims</td>\n",
       "      <td>Baker, Allen and Edwards</td>\n",
       "      <td>Regulatory affairs officer</td>\n",
       "      <td>Kristaburgh</td>\n",
       "      <td>Haiti</td>\n",
       "      <td>712320</td>\n",
       "      <td>Full Time</td>\n",
       "      <td>3.0</td>\n",
       "      <td>2</td>\n",
       "    </tr>\n",
       "  </tbody>\n",
       "</table>\n",
       "</div>"
      ],
      "text/plain": [
       "               Name                    Company_Name  \\\n",
       "0    Johnny Maynard         White, Mcclain and Cobb   \n",
       "1  Michael Williams                       Scott Inc   \n",
       "2       Laura Flynn                     Andrade LLC   \n",
       "3   Stefanie Archer                  James and Sons   \n",
       "4     Sierra Garcia                    Matthews Inc   \n",
       "5      Donna Miller                     Andrade LLC   \n",
       "6   Linda Rodriguez               Marshall-Holloway   \n",
       "7   Jonathan Gibson                       Scott Inc   \n",
       "8        Karl Henry  Campos, Reynolds and Mccormick   \n",
       "9    Katherine Sims        Baker, Allen and Edwards   \n",
       "\n",
       "                                  Employee_Job_Title      Employee_City  \\\n",
       "0                                    Equities trader   New Cindychester   \n",
       "1                                    Patent examiner       Ricardomouth   \n",
       "2                                    Equities trader  North Melissafurt   \n",
       "3                                Retail merchandiser       Ricardomouth   \n",
       "4  Armed forces logistics/support/administrative ...       Whitakerbury   \n",
       "5                       Garment/textile technologist     West Jamesview   \n",
       "6                                        Optometrist       Whitakerbury   \n",
       "7                                    Naval architect          Whiteside   \n",
       "8                          Radiographer, therapeutic          Whiteside   \n",
       "9                         Regulatory affairs officer        Kristaburgh   \n",
       "\n",
       "         Employee_Country  Employee_Salary Employment_Status  Employee_Rating  \\\n",
       "0                Mongolia           764340         Full Time              3.3   \n",
       "1           Guinea-Bissau           929230         Full Time              4.6   \n",
       "2                   Tonga           606900            Intern              0.3   \n",
       "3              San Marino           775380         Full Time              2.8   \n",
       "4                   Nepal           944480         Full Time              4.5   \n",
       "5                   Tonga           428090            Intern              1.1   \n",
       "6                Portugal           645690         Full Time              4.7   \n",
       "7  Libyan Arab Jamahiriya           483210            Intern              3.4   \n",
       "8         Kyrgyz Republic           586480         Full Time              3.7   \n",
       "9                   Haiti           712320         Full Time              3.0   \n",
       "\n",
       "   Credits  \n",
       "0        1  \n",
       "1        4  \n",
       "2        3  \n",
       "3        5  \n",
       "4        4  \n",
       "5        4  \n",
       "6        5  \n",
       "7        1  \n",
       "8        2  \n",
       "9        2  "
      ]
     },
     "execution_count": 2,
     "metadata": {},
     "output_type": "execute_result"
    }
   ],
   "source": [
    "df = pd.read_csv(\"../_Datasets/employee_dataset.csv\")\n",
    "df.head(10)"
   ]
  },
  {
   "cell_type": "code",
   "execution_count": 3,
   "id": "0a6faaa2",
   "metadata": {},
   "outputs": [
    {
     "name": "stdout",
     "output_type": "stream",
     "text": [
      "(1000, 9)\n"
     ]
    }
   ],
   "source": [
    "print(df.shape)"
   ]
  },
  {
   "cell_type": "code",
   "execution_count": 4,
   "id": "7f1970d3",
   "metadata": {},
   "outputs": [
    {
     "data": {
      "application/vnd.jupyter.widget-view+json": {
       "model_id": "ecd76fd92e4e46d1a1488702b1dab6a2",
       "version_major": 2,
       "version_minor": 0
      },
      "text/plain": [
       "interactive(children=(Dropdown(description='company', options=('White, Mcclain and Cobb', 'Scott Inc', 'Andrad…"
      ]
     },
     "metadata": {},
     "output_type": "display_data"
    }
   ],
   "source": [
    "@interact\n",
    "def filter_company(company = list(df.Company_Name.unique())):\n",
    "\n",
    "    return df[df.Company_Name == company]"
   ]
  },
  {
   "cell_type": "code",
   "execution_count": 5,
   "id": "8485a11d",
   "metadata": {},
   "outputs": [
    {
     "data": {
      "application/vnd.jupyter.widget-view+json": {
       "model_id": "292dcf80b1f44311bb78b47b23f9af08",
       "version_major": 2,
       "version_minor": 0
      },
      "text/plain": [
       "interactive(children=(FloatSlider(value=2.0, description='rating', max=5.0, step=0.5), Output()), _dom_classes…"
      ]
     },
     "metadata": {},
     "output_type": "display_data"
    }
   ],
   "source": [
    "@interact\n",
    "def filter_rating(rating = (0, 5, 0.5)):\n",
    "\n",
    "    return df[df.Employee_Rating>rating]"
   ]
  },
  {
   "cell_type": "code",
   "execution_count": 6,
   "id": "f04dd2b7",
   "metadata": {
    "scrolled": false
   },
   "outputs": [
    {
     "data": {
      "application/vnd.jupyter.widget-view+json": {
       "model_id": "02b2f0d260d840c3b1520a2d0ff243eb",
       "version_major": 2,
       "version_minor": 0
      },
      "text/plain": [
       "interactive(children=(Dropdown(description='city', options=('New Cindychester', 'Ricardomouth', 'North Melissa…"
      ]
     },
     "metadata": {},
     "output_type": "display_data"
    }
   ],
   "source": [
    "@interact\n",
    "def plot_city(city = list(df.Employee_City.unique())):\n",
    "\n",
    "    filtered_df = df[df.Employee_City == city]\n",
    "    \n",
    "    ## create the plot on filtered data\n",
    "    fig = filtered_df.plot(kind = \"scatter\", \n",
    "                           x = \"Employee_Salary\", \n",
    "                           y = \"Employee_Rating\", \n",
    "                           color = \"Employment_Status\",\n",
    "                           size = \"Credits\")\n",
    "    fig.show()"
   ]
  },
  {
   "cell_type": "code",
   "execution_count": null,
   "id": "fe38db8a",
   "metadata": {},
   "outputs": [],
   "source": []
  }
 ],
 "metadata": {
  "kernelspec": {
   "display_name": "Python 3 (ipykernel)",
   "language": "python",
   "name": "python3"
  },
  "language_info": {
   "codemirror_mode": {
    "name": "ipython",
    "version": 3
   },
   "file_extension": ".py",
   "mimetype": "text/x-python",
   "name": "python",
   "nbconvert_exporter": "python",
   "pygments_lexer": "ipython3",
   "version": "3.9.13"
  }
 },
 "nbformat": 4,
 "nbformat_minor": 5
}
