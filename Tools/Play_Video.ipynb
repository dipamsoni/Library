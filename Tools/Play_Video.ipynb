{
 "cells": [
  {
   "cell_type": "markdown",
   "id": "a08446ba",
   "metadata": {},
   "source": [
    "# Play Video with python\n",
    "\n",
    "Hello, I am **[Dipam Soni](https://flowcv.me/dipamsoni)** and here is my portfolio website where you can find more information about me.\n",
    "\n",
    "You can reach me through **[LinkedIn](https://www.linkedin.com/in/dipam-soni-276aa8207)**\n",
    "\n",
    "Post Link: **[GitHub](https://github.com/dipamsoni/Data-Science/tree/main/Tools/Play_Video.ipynb)**\n",
    "\n",
    "Spread 💙, Be 😃, Go with the flow 🎈.\n",
    "\n",
    "Love & Regards from Dipam."
   ]
  },
  {
   "cell_type": "code",
   "execution_count": 1,
   "id": "b5bc10f7",
   "metadata": {},
   "outputs": [],
   "source": [
    "from IPython.display import Video"
   ]
  },
  {
   "cell_type": "code",
   "execution_count": 2,
   "id": "69c83746",
   "metadata": {},
   "outputs": [
    {
     "data": {
      "text/html": [
       "<video src=\"../_Extras/CodeSquire Video.mp4\" controls  >\n",
       "      Your browser does not support the <code>video</code> element.\n",
       "    </video>"
      ],
      "text/plain": [
       "<IPython.core.display.Video object>"
      ]
     },
     "execution_count": 2,
     "metadata": {},
     "output_type": "execute_result"
    }
   ],
   "source": [
    "Video(\"../_Extras/CodeSquire Video.mp4\")"
   ]
  },
  {
   "cell_type": "code",
   "execution_count": null,
   "id": "0beb087d",
   "metadata": {},
   "outputs": [],
   "source": []
  }
 ],
 "metadata": {
  "kernelspec": {
   "display_name": "Python 3 (ipykernel)",
   "language": "python",
   "name": "python3"
  },
  "language_info": {
   "codemirror_mode": {
    "name": "ipython",
    "version": 3
   },
   "file_extension": ".py",
   "mimetype": "text/x-python",
   "name": "python",
   "nbconvert_exporter": "python",
   "pygments_lexer": "ipython3",
   "version": "3.9.13"
  }
 },
 "nbformat": 4,
 "nbformat_minor": 5
}
