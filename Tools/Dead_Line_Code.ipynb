{
 "cells": [
  {
   "cell_type": "markdown",
   "id": "44e72a3a",
   "metadata": {},
   "source": [
    "# Find Unused python code line along with Function & Variable\n",
    "\n",
    "Hello, I am **[Dipam Soni](https://flowcv.me/dipamsoni)** and here is my portfolio website where you can find more information about me.\n",
    "\n",
    "You can reach me through **[LinkedIn](https://www.linkedin.com/in/dipam-soni-276aa8207)**\n",
    "\n",
    "Post Link: **[GitHub](https://github.com/dipamsoni/Data-Science/tree/main/Tools/Dead_Line_Code.ipynb)**\n",
    "\n",
    "Spread 💙, Be 😃, Go with the flow 🎈.\n",
    "\n",
    "Love & Regards from Dipam."
   ]
  },
  {
   "cell_type": "code",
   "execution_count": 1,
   "id": "dd46d375",
   "metadata": {},
   "outputs": [],
   "source": [
    "## Python code file which need to be check for the unused code.\n",
    "import dead_code_demo"
   ]
  },
  {
   "cell_type": "code",
   "execution_count": 2,
   "id": "e984cbc4",
   "metadata": {},
   "outputs": [
    {
     "name": "stdout",
     "output_type": "stream",
     "text": [
      "dead_code_demo.py:1: unused function 'sum_func' (60% confidence)\n",
      "dead_code_demo.py:4: unused function 'max_func' (60% confidence)\n",
      "dead_code_demo.py:9: unused variable 'flag' (60% confidence)\n",
      "dead_code_demo.py:14: unused variable 'a' (60% confidence)\n",
      "dead_code_demo.py:15: unused variable 'b' (60% confidence)\n",
      "dead_code_demo.py:16: unused variable 'c' (60% confidence)\n"
     ]
    }
   ],
   "source": [
    "!vulture dead_code_demo.py"
   ]
  },
  {
   "cell_type": "code",
   "execution_count": null,
   "id": "ecf2dda1",
   "metadata": {},
   "outputs": [],
   "source": []
  }
 ],
 "metadata": {
  "kernelspec": {
   "display_name": "Python 3 (ipykernel)",
   "language": "python",
   "name": "python3"
  },
  "language_info": {
   "codemirror_mode": {
    "name": "ipython",
    "version": 3
   },
   "file_extension": ".py",
   "mimetype": "text/x-python",
   "name": "python",
   "nbconvert_exporter": "python",
   "pygments_lexer": "ipython3",
   "version": "3.9.13"
  }
 },
 "nbformat": 4,
 "nbformat_minor": 5
}
