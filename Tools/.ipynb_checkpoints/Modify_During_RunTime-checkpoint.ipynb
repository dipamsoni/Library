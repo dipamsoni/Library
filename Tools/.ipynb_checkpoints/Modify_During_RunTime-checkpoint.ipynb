{
 "cells": [
  {
   "cell_type": "markdown",
   "id": "58f13bc9",
   "metadata": {},
   "source": [
    "# Modify python code during runtime.\n",
    "\n",
    "Hello, I am **[Dipam Soni](https://flowcv.me/dipamsoni)** and here is my portfolio website where you can find more information about me.\n",
    "\n",
    "You can reach me through **[LinkedIn](https://www.linkedin.com/in/dipam-soni-276aa8207)**\n",
    "\n",
    "Post Link: **[GitHub](https://github.com/dipamsoni/Data-Science/tree/main/Tools/Modify_During_RunTime.ipynb)**\n",
    "\n",
    "You can read more from this : **[Documentation](https://pypi.org/project/reloading/)**\n",
    "\n",
    "Spread 💙, Be 😃, Go with the flow 🎈.\n",
    "\n",
    "Love & Regards from Dipam."
   ]
  },
  {
   "cell_type": "code",
   "execution_count": null,
   "id": "638d5f20",
   "metadata": {},
   "outputs": [],
   "source": [
    "from time import sleep\n",
    "from reloading import reloading\n",
    "\n",
    "@reloading\n",
    "def half_value(value):\n",
    "    print(f\"value = {value}\")\n",
    "    value = value/2\n",
    "    return value\n",
    "\n",
    "value = 100\n",
    "iterations = 10\n",
    "\n",
    "for iteration in range(iterations):\n",
    "\n",
    "    value = half_value(value)\n",
    "    sleep(2)"
   ]
  }
 ],
 "metadata": {
  "kernelspec": {
   "display_name": "Python 3 (ipykernel)",
   "language": "python",
   "name": "python3"
  },
  "language_info": {
   "codemirror_mode": {
    "name": "ipython",
    "version": 3
   },
   "file_extension": ".py",
   "mimetype": "text/x-python",
   "name": "python",
   "nbconvert_exporter": "python",
   "pygments_lexer": "ipython3",
   "version": "3.9.13"
  }
 },
 "nbformat": 4,
 "nbformat_minor": 5
}
