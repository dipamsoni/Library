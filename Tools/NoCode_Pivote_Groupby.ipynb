{
 "cells": [
  {
   "cell_type": "markdown",
   "id": "b64ccf4b",
   "metadata": {},
   "source": [
    "# Create Pivot Tables, Aggregations and Plots Without Any Code\n",
    "\n",
    "Hello, I am **[Dipam Soni](https://flowcv.me/dipamsoni)** and here is my portfolio website where you can find more information about me.\n",
    "\n",
    "You can reach me through **[LinkedIn](https://www.linkedin.com/in/dipam-soni-276aa8207)**\n",
    "\n",
    "Post Link: **[GitHub](https://github.com/dipamsoni/Data-Science/tree/main/Tools/NoCode_Pivote_Groupby.ipynb)**\n",
    "\n",
    "You can read more from this : **[Documentation](https://github.com/nicolaskruchten/pivottable)**\n",
    "\n",
    "Spread 💙, Be 😃, Go with the flow 🎈.\n",
    "\n",
    "Love & Regards from Dipam."
   ]
  },
  {
   "cell_type": "code",
   "execution_count": null,
   "id": "6ac33c58",
   "metadata": {},
   "outputs": [],
   "source": []
  }
 ],
 "metadata": {
  "kernelspec": {
   "display_name": "Python 3 (ipykernel)",
   "language": "python",
   "name": "python3"
  },
  "language_info": {
   "codemirror_mode": {
    "name": "ipython",
    "version": 3
   },
   "file_extension": ".py",
   "mimetype": "text/x-python",
   "name": "python",
   "nbconvert_exporter": "python",
   "pygments_lexer": "ipython3",
   "version": "3.9.13"
  }
 },
 "nbformat": 4,
 "nbformat_minor": 5
}
