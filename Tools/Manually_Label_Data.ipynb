{
 "cells": [
  {
   "cell_type": "markdown",
   "id": "9845e90a",
   "metadata": {},
   "source": [
    "# Label Your Data With The Click Of A Button\n",
    "\n",
    "Hello, I am **[Dipam Soni](https://flowcv.me/dipamsoni)** and here is my portfolio website where you can find more information about me.\n",
    "\n",
    "You can reach me through **[LinkedIn](https://www.linkedin.com/in/dipam-soni-276aa8207)**\n",
    "\n",
    "Post Link: **[GitHub](https://github.com/dipamsoni/Data-Science/tree/main/Tools/Manually_Label_Data.ipynb)**\n",
    "\n",
    "Spread 💙, Be 😃, Go with the flow 🎈.\n",
    "\n",
    "Love & Regards from Dipam."
   ]
  },
  {
   "cell_type": "code",
   "execution_count": 1,
   "id": "d8939074",
   "metadata": {},
   "outputs": [],
   "source": [
    "from glob import glob\n",
    "from PIL import Image\n",
    "\n",
    "images_data = [Image.open(_) for _ in glob('../_Datasets/cats-dogs-images/*jpeg')]"
   ]
  },
  {
   "cell_type": "code",
   "execution_count": 2,
   "id": "adaf3a73",
   "metadata": {},
   "outputs": [],
   "source": [
    "from ipyannotate import annotate\n",
    "\n",
    "from ipyannotate.buttons import ValueButton as Button"
   ]
  },
  {
   "cell_type": "code",
   "execution_count": 6,
   "id": "183cf517",
   "metadata": {},
   "outputs": [
    {
     "data": {
      "application/vnd.jupyter.widget-view+json": {
       "model_id": "e837e24d1a4a44ee989c3dc7ce9f5430",
       "version_major": 2,
       "version_minor": 0
      },
      "text/plain": [
       "Annotation(canvas=OutputCanvas(), progress=Progress(atoms=[<ipyannotate.progress.Atom object at 0x000002684EA7…"
      ]
     },
     "metadata": {},
     "output_type": "display_data"
    }
   ],
   "source": [
    "annotation = annotate(images_data,            # data\n",
    "                      buttons=[Button('Dog'), # label buttons list\n",
    "                               Button('Cat')])\n",
    "annotation"
   ]
  },
  {
   "cell_type": "code",
   "execution_count": 7,
   "id": "333463a0",
   "metadata": {},
   "outputs": [
    {
     "data": {
      "text/plain": [
       "['Cat', 'Dog', 'Cat', 'Dog']"
      ]
     },
     "execution_count": 7,
     "metadata": {},
     "output_type": "execute_result"
    }
   ],
   "source": [
    "labels = [task.value for task in annotation.tasks] # get labels\n",
    "labels"
   ]
  },
  {
   "cell_type": "code",
   "execution_count": null,
   "id": "1ab49283",
   "metadata": {},
   "outputs": [],
   "source": []
  }
 ],
 "metadata": {
  "kernelspec": {
   "display_name": "Python 3 (ipykernel)",
   "language": "python",
   "name": "python3"
  },
  "language_info": {
   "codemirror_mode": {
    "name": "ipython",
    "version": 3
   },
   "file_extension": ".py",
   "mimetype": "text/x-python",
   "name": "python",
   "nbconvert_exporter": "python",
   "pygments_lexer": "ipython3",
   "version": "3.9.13"
  }
 },
 "nbformat": 4,
 "nbformat_minor": 5
}
